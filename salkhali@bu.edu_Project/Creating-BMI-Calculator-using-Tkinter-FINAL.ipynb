{
 "cells": [
  {
   "cell_type": "markdown",
   "metadata": {},
   "source": [
    "# Developing a GUI-based BMI Calculator using Python & Tkinter"
   ]
  },
  {
   "cell_type": "markdown",
   "metadata": {},
   "source": [
    "### Table of Contents:"
   ]
  },
  {
   "cell_type": "markdown",
   "metadata": {},
   "source": [
    "1 - Introduction\n",
    "\n",
    "2 - Import Packages of Interest\n",
    "\n",
    "3 - Create and Connect to SQL Database\n",
    "\n",
    "4 - Create the Welcome Page\n",
    "\n",
    "5 - Create the Main > BMI Calculator Page\n",
    "\n",
    "6 - Create the Main > Records Page\n",
    "\n",
    "7 - Initiate the Application\n",
    "\n",
    "8 - Export to Create a Standalone Executable\n",
    "\n",
    "9 - Summary\n"
   ]
  },
  {
   "cell_type": "markdown",
   "metadata": {},
   "source": [
    "### 1- Introduction:"
   ]
  },
  {
   "cell_type": "markdown",
   "metadata": {},
   "source": [
    "The objective of this page is to create a GUI-based BMI caculator using python3 and tkinter. We will start off by importing the necessary packages and establishing a SQL database for our application. Next, we will create several classes, each with their respective functions in which we outline the size of our application, the buttons we wish to have, and the commands and functionality we would like to utilize. We will then pull our file together and create a standalone executable file (bmi-calc.exe).\n",
    "\n",
    "In order to visualize the calculater we plan to build, please see the following image:"
   ]
  },
  {
   "cell_type": "markdown",
   "metadata": {},
   "source": [
    "![title](bmic.jpeg)"
   ]
  },
  {
   "cell_type": "markdown",
   "metadata": {},
   "source": [
    "#### In order to install tkinter, run the following code:"
   ]
  },
  {
   "cell_type": "markdown",
   "metadata": {},
   "source": [
    "pip install tkinter"
   ]
  },
  {
   "cell_type": "markdown",
   "metadata": {},
   "source": [
    "#### In order to install sqlite3, run the following code:"
   ]
  },
  {
   "cell_type": "markdown",
   "metadata": {},
   "source": [
    "pip install sqlite3"
   ]
  },
  {
   "cell_type": "markdown",
   "metadata": {},
   "source": [
    "### 2-  Import Packages of Interest:"
   ]
  },
  {
   "cell_type": "code",
   "execution_count": 1,
   "metadata": {},
   "outputs": [],
   "source": [
    "# Import packages:\n",
    "\n",
    "# Import tkinter to build the GUI interface of this app:\n",
    "from tkinter import *\n",
    "\n",
    "# Import sqlite to store the data we will generate:\n",
    "import sqlite3\n",
    "\n",
    "# Import time to manage the time of our entries:\n",
    "import time\n",
    "import datetime\n",
    "\n",
    "# import image to add BU logo:\n",
    "from PIL import Image\n",
    "from PIL import ImageTk, Image\n"
   ]
  },
  {
   "cell_type": "markdown",
   "metadata": {},
   "source": [
    "### 3-  Create and Connect to the SQL Database:"
   ]
  },
  {
   "cell_type": "code",
   "execution_count": 2,
   "metadata": {},
   "outputs": [],
   "source": [
    "# Connect to the SQL database and create a shortcut for easy access:\n",
    "\n",
    "BMIDB = sqlite3.connect(\"bmidatabase.db\")\n",
    "c = BMIDB.cursor()\n",
    "\n"
   ]
  },
  {
   "cell_type": "markdown",
   "metadata": {},
   "source": [
    "### 4-  Create the Welcome Page:"
   ]
  },
  {
   "cell_type": "code",
   "execution_count": 3,
   "metadata": {},
   "outputs": [],
   "source": [
    "\n",
    "class Welcome():\n",
    "    \n",
    "    def __init__ (self, master):\n",
    "        \n",
    "        self.master = master\n",
    "        self.master.geometry('260x260+100+200')\n",
    "        self.master.title('Welcome')\n",
    "        self.master.configure(background='white')\n",
    "        \n",
    "        import random\n",
    "        for x in range(10):\n",
    "            happycalc = random.randint(1,4)\n",
    "\n",
    "        happy = ['Amazing','Wonderful','Great','Awesome', 'Perfect']\n",
    "        happyword = happy[happycalc]\n",
    "        \n",
    "        finalHappyText = \"The \" + happyword + \" Boston University BMI Calculator\"\n",
    "        \n",
    "        #print(happyword)\n",
    "\n",
    "        self.label1 = Label(self.master, text = finalHappyText, fg='red', background = 'white').grid(row=1, column=1)\n",
    "        \n",
    "        \n",
    "#        img = ImageTk.PhotoImage(Image.open(\"bu1.png\"))\n",
    "#        self.label2 = Label(self.master, image = img).grid(row=0, column=1)\n",
    "        \n",
    "        today = datetime.datetime.now()\n",
    "\n",
    "        #print(today)\n",
    "\n",
    "        repr(today)\n",
    "        \n",
    "        self.label3 = Label(self.master, text = today, fg='black', background = 'white').grid(row=8, column=1)\n",
    "\n",
    "        \n",
    "        \n",
    "        self.button1 = Button(self.master, text= \"BMI Calculator\", fg = 'blue', command = self.gotobmicalculator).grid(row=3, column=1)\n",
    "        self.button2 = Button(self.master, text = \"Records\", fg = 'blue', command = self.gotorecords).grid(row=5, column=1)\n",
    "#        self.button3 = Button(self.master, text = \"Settings\",fg='blue',command=self.gotosettings).grid(row=3,column=3)\n",
    "        self.button4 = Button(self.master, text = \"Exit\",fg='blue',command=self.exit).grid(row=7,column=1)\n",
    "        \n",
    "    def exit(self):\n",
    "        # Create an exit \n",
    "        self.master.destroy()\n",
    "    \n",
    "    def gotobmicalculator(self):\n",
    "        # The actual calcualtor \n",
    "        root2 = Toplevel(self.master)\n",
    "        myGUIO = bmicalculator(root2)\n",
    "    \n",
    "    def gotorecords(self):\n",
    "        #This is where the previous records are stored\n",
    "        root2=Toplevel(self.master)\n",
    "        mygui=records(root2)\n",
    "\n"
   ]
  },
  {
   "cell_type": "markdown",
   "metadata": {},
   "source": [
    "### 5-  Create the Main > BMI Calculator Page"
   ]
  },
  {
   "cell_type": "code",
   "execution_count": 4,
   "metadata": {},
   "outputs": [],
   "source": [
    "class bmicalculator():\n",
    "    #class created for the bmi calculator GUI \n",
    "    def __init__(self,master):\n",
    "\n",
    "        c.execute('CREATE TABLE IF NOT EXISTS BMIStorage(timestamp TEXT,bodymassindex REAL,weightclass TEXT)')\n",
    "\n",
    "        self.heightcm=DoubleVar()\n",
    "        self.weightkg=DoubleVar()\n",
    "\n",
    "        self.master=master\n",
    "        self.master.geometry('260x250+100+200')\n",
    "        self.master.title('BMI Calculator')\n",
    "        self.master.configure(background='white')\n",
    "\n",
    "        self.label2=Label(self.master,text='Welcome to the BMI Calculator',fg='red').grid(row=0,column=0)\n",
    "        self.label2=Label(self.master,text='Please enter your height in centimetres',fg='black').grid(row=3,column=0)\n",
    "        self.label2=Label(self.master,text='Please enter your weight in kilograms',fg='black').grid(row=4,column=0)\n",
    "\n",
    "        self.myheight=Entry(self.master,textvariable=self.heightcm).grid(row=3,column=1)\n",
    "        self.myweight=Entry(self.master,textvariable=self.weightkg).grid(row=4,column=1)\n",
    "        self.button4=Button(self.master,text=\"Calculate BMI\",fg='blue',command=self.bmicalculation).grid(row=7,column=0)\n",
    "        self.button5=Button(self.master,text=\"Exit\",fg='blue',command=self.exit).grid(row=9,column=0)\n",
    "        \n",
    "    \n",
    "    def bmicalculation(self):\n",
    "        bmiheight=self.heightcm.get()\n",
    "        bmiweight=self.weightkg.get()\n",
    "        bmi= float((bmiweight)/((bmiheight / 100)**2))\n",
    "        bmi = round(bmi, 4)\n",
    "        self.bmi = bmi\n",
    "        self.label1=Label(self.master,text='Your BMI is %.2f' % bmi).grid(row=5,column=0)\n",
    "\n",
    "        if bmi <= 18.5:\n",
    "            self.label2=Label(self.master,text='You are slightly underweight.',fg='blue').grid(row=6,column=0)\n",
    "            totalindex = 'underweight'\n",
    "            self.totalindex = totalindex\n",
    "        elif bmi >18.5 and bmi <25:\n",
    "            self.label3=Label(self.master,text='You are in the healthy weight group.',fg='green').grid(row=6,column=0)\n",
    "            totalindex = 'healthy'\n",
    "            self.totalindex = totalindex\n",
    "        elif bmi >= 25 and bmi < 30:\n",
    "            self.label4=Label(self.master,text='You are slightly overweight.',fg='orange').grid(row=6,column=0)\n",
    "            totalindex = 'overweight'\n",
    "            self.totalindex = totalindex\n",
    "        elif bmi >=30:\n",
    "            self.label5=Label(self.master,text='You are in the obese weight group.',fg='red').grid(row=6,column=0)\n",
    "            totalindex = 'obese'\n",
    "            self.totalindex = totalindex\n",
    "\n",
    "        if bmi >0 and bmi <999999999999999999999:\n",
    "            self.button6=Button(self.master,text=\"Store Data\",fg='red',command=self.dynamic_data_entry).grid(row=8,column=0)\n",
    "            \n",
    "    def dynamic_data_entry(self):\n",
    "        global dynamic_data_entry\n",
    "\n",
    "        timestamp = str(datetime.datetime.now().date())\n",
    "        \n",
    "        bodymassindex = self.bmi\n",
    "        weightclass = self.totalindex\n",
    "        \n",
    "        c.execute(\"INSERT INTO BMIStorage (timestamp, bodymassindex, weightclass) VALUES (?, ?, ?)\",(timestamp, bodymassindex, weightclass))\n",
    "        BMIDB.commit()\n",
    "        \n",
    "        self.writetodatabase()\n",
    "\n",
    "    def writetodatabase(self):\n",
    "        for i in range(1):\n",
    "            time.sleep(1)\n",
    "\n",
    "\n",
    "    def exit(self):\n",
    "\n",
    "        self.master.destroy()\n"
   ]
  },
  {
   "cell_type": "markdown",
   "metadata": {},
   "source": [
    "### 6-  Create the Main > Records Page:"
   ]
  },
  {
   "cell_type": "code",
   "execution_count": 5,
   "metadata": {},
   "outputs": [],
   "source": [
    "class records():\n",
    "\n",
    "    def __init__(self,master):\n",
    "        self.master=master\n",
    "        self.master.geometry('500x500+100+200')\n",
    "        self.master.configure(background='white')\n",
    "\n",
    "        self.master.title('Records')\n",
    "        self.connection = sqlite3.connect('bmidatabase.db')\n",
    "        self.cur = self.connection.cursor()\n",
    "        self.dateLabel = Label(self.master, text=\"Date\", width=10)\n",
    "        self.dateLabel.grid(row=0, column=0)\n",
    "        self.BMILabel = Label(self.master, text=\"BMI\", width=10)\n",
    "        self.BMILabel.grid(row=0, column=1)\n",
    "        self.stateLabel = Label(self.master, text=\"Status\", width=10)\n",
    "        self.stateLabel.grid(row=0, column=2)\n",
    "        self.showallrecords()\n",
    "        self.button4=Button(self.master,text=\"Return\",fg='red',command=self.exit).grid(row=7,column=0)\n",
    "\n",
    "    def showallrecords(self):\n",
    "        data = self.readfromdatabase()\n",
    "        for index, dat in enumerate(data):\n",
    "            Label(self.master, text=dat[0]).grid(row=index+1, column=0)\n",
    "            Label(self.master, text=dat[1]).grid(row=index+1, column=1)\n",
    "            Label(self.master, text=dat[2]).grid(row=index+1, column=2)\n",
    "\n",
    "    def readfromdatabase(self):\n",
    "        self.cur.execute(\"SELECT * FROM BMIStorage\")\n",
    "        return self.cur.fetchall()\n",
    "\n",
    "    def exit(self):\n",
    "        self.master.destroy()\n"
   ]
  },
  {
   "cell_type": "markdown",
   "metadata": {},
   "source": [
    "### 7-  Initiate the Application:"
   ]
  },
  {
   "cell_type": "code",
   "execution_count": 6,
   "metadata": {},
   "outputs": [],
   "source": [
    "def main():\n",
    "     root = Tk()\n",
    "     myGUIWelcome = Welcome(root)\n",
    "     root.mainloop()\n",
    "\n",
    "if __name__ == '__main__':\n",
    "     main()"
   ]
  },
  {
   "cell_type": "markdown",
   "metadata": {},
   "source": [
    "### 8-  Export to Create a Standalone Executable:"
   ]
  },
  {
   "cell_type": "markdown",
   "metadata": {},
   "source": [
    "8.1 Navigate to your terminal command and install pyinstaller:\n",
    "   \n",
    "        >> pip install pyinstaller\n",
    "\n",
    "8.2 Save your file with a .py extension by going to File > Download As > Python File\n",
    "\n",
    "8.3 Create the executable in your terminal command line:\n",
    "        \n",
    "        >>> pyinstaller.exe --onefile --icon=bmi_icon.ico .\\bmi_calculator_gui.py\n",
    "        \n",
    "...where:\n",
    "\n",
    "        >>> pyinstaller.exe\n",
    "... is the package we are using to create the executable\n",
    "\n",
    "        >>> --onefile\n",
    "... will produce one output file instead of multiple\n",
    "\n",
    "        >>> --icon=bmi_icon.ico\n",
    "... will create a icon for your application assuming you have an icon file to use\n",
    "\n",
    "        >>> .\\bmi_calculator_gui.py\n",
    "... is the .py file you created in the previous step."
   ]
  },
  {
   "cell_type": "markdown",
   "metadata": {},
   "source": [
    "### 10-  Summary:"
   ]
  },
  {
   "cell_type": "markdown",
   "metadata": {},
   "source": [
    "In summary, we were able to create several classes each pertaining to a \"view\" or \"window\" in our application. Each class contained a series of defined functions that outlined a command of some sort for the program to execute. We then initiated the application to produce a GUI-based BMI Calculator. We then used pyinstaller to create a standalone executable file."
   ]
  }
 ],
 "metadata": {
  "kernelspec": {
   "display_name": "Python 3",
   "language": "python",
   "name": "python3"
  },
  "language_info": {
   "codemirror_mode": {
    "name": "ipython",
    "version": 3
   },
   "file_extension": ".py",
   "mimetype": "text/x-python",
   "name": "python",
   "nbconvert_exporter": "python",
   "pygments_lexer": "ipython3",
   "version": "3.7.0"
  }
 },
 "nbformat": 4,
 "nbformat_minor": 2
}
