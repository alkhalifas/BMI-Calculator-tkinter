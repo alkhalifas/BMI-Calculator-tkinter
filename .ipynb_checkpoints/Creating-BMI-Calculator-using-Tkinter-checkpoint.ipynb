{
 "cells": [
  {
   "cell_type": "markdown",
   "metadata": {},
   "source": [
    "# Developing a GUI-based BMI Calculator using Python & Tkinter"
   ]
  },
  {
   "cell_type": "markdown",
   "metadata": {},
   "source": [
    "### Table of Contents:"
   ]
  },
  {
   "cell_type": "markdown",
   "metadata": {},
   "source": [
    "1 - Introduction\n",
    "\n",
    "2 - Import Packages of Interest\n",
    "\n",
    "3 - Create and Connect to SQL Database\n",
    "\n",
    "4 - Create the Welcome Page\n",
    "\n",
    "5 - Create the Main > Settings Page\n",
    "\n",
    "6 - Create the Main > BMI Calculator Page\n",
    "\n",
    "7 - Create the Main > Records Page\n",
    "\n",
    "8 - Initiate the Application\n",
    "\n",
    "9 - Export to Create a Standalone Executable\n",
    "\n",
    "10 - Summary\n"
   ]
  },
  {
   "cell_type": "markdown",
   "metadata": {},
   "source": [
    "### 1- Introduction:"
   ]
  },
  {
   "cell_type": "markdown",
   "metadata": {},
   "source": [
    "Objective: The objective of this page is to create a GUI-based BMI caculator using python3 and tkinter. We will start off by importing the necessary packages and establishing a SQL database for our applications input. Next, we will create several classes each with their respective fucntions in which we outline the size of our application, the buttons we wish to have, and the commands and functionality we would like to see. We will then pull our file together and create a standalone executable file."
   ]
  },
  {
   "cell_type": "markdown",
   "metadata": {},
   "source": [
    "### 2-  Import Packages of Interest:"
   ]
  },
  {
   "cell_type": "code",
   "execution_count": 8,
   "metadata": {},
   "outputs": [
    {
     "ename": "ModuleNotFoundError",
     "evalue": "No module named 'Image'",
     "output_type": "error",
     "traceback": [
      "\u001b[1;31m---------------------------------------------------------------------------\u001b[0m",
      "\u001b[1;31mModuleNotFoundError\u001b[0m                       Traceback (most recent call last)",
      "\u001b[1;32m<ipython-input-8-e919ddd53bb1>\u001b[0m in \u001b[0;36m<module>\u001b[1;34m()\u001b[0m\n\u001b[0;32m     12\u001b[0m \u001b[1;33m\u001b[0m\u001b[0m\n\u001b[0;32m     13\u001b[0m \u001b[1;31m# import image to add BU logo:\u001b[0m\u001b[1;33m\u001b[0m\u001b[1;33m\u001b[0m\u001b[0m\n\u001b[1;32m---> 14\u001b[1;33m \u001b[1;32mimport\u001b[0m \u001b[0mImage\u001b[0m\u001b[1;33m\u001b[0m\u001b[0m\n\u001b[0m",
      "\u001b[1;31mModuleNotFoundError\u001b[0m: No module named 'Image'"
     ]
    }
   ],
   "source": [
    "# Import packages:\n",
    "\n",
    "# Import tkinter to build the GUI interface\n",
    "from tkinter import *\n",
    "\n",
    "# Import sqlite to manage our data:\n",
    "import sqlite3\n",
    "\n",
    "# import time to manage the time of our entries\n",
    "import time\n",
    "import datetime\n",
    "\n",
    "# import image to add BU logo:\n",
    "import Image"
   ]
  },
  {
   "cell_type": "markdown",
   "metadata": {},
   "source": [
    "### 3-  Create and Connect to the SQL Database:"
   ]
  },
  {
   "cell_type": "code",
   "execution_count": 2,
   "metadata": {},
   "outputs": [],
   "source": [
    "# Connect to the SQL database and create a shortcut:\n",
    "\n",
    "conn = sqlite3.connect(\"bmidatabase.db\")\n",
    "c = conn.cursor()\n"
   ]
  },
  {
   "cell_type": "markdown",
   "metadata": {},
   "source": [
    "### 4-  Create the Welcome Page:"
   ]
  },
  {
   "cell_type": "code",
   "execution_count": 3,
   "metadata": {},
   "outputs": [
    {
     "data": {
      "text/plain": [
       "'\\n    def gotosettings(self):\\n        # settings page:\\n        root2 = Toplevel(self.master)\\n        mygui=settings(root2)\\n\\n        '"
      ]
     },
     "execution_count": 3,
     "metadata": {},
     "output_type": "execute_result"
    }
   ],
   "source": [
    "# Create a class for the first page. This page will allow for navigation to subsequent pages in the calculator:\n",
    "\n",
    "class Welcome():\n",
    "    \n",
    "    def __init__ (self, master):\n",
    "        \n",
    "        self.master = master\n",
    "        self.master.geometry('200x200+100+200')\n",
    "        self.master.title('Welcome')\n",
    "        \n",
    "        self.label1 = Label(self.master, text = \"Boston University BMI Calculator\", fg='red').grid(row=0, column=3)\n",
    "        self.button1 = Button(self.master, text= \"BMI Calculator\", fg = 'blue', command = self.gotobmicalculator).grid(row=1, column=3)\n",
    "        self.button2 = Button(self.master, text = \"Records\", fg = 'blue', command = self.gotorecords).grid(row=2, column=3)\n",
    "#        self.button3 = Button(self.master, text = \"Settings\",fg='blue',command=self.gotosettings).grid(row=3,column=3)\n",
    "        self.button4 = Button(self.master, text = \"Exit\",fg='blue',command=self.exit).grid(row=4,column=3)\n",
    "        \n",
    "    def exit(self):\n",
    "        # Create an exit protocol for the user\n",
    "        self.master.destroy()\n",
    "    \n",
    "    def gotobmicalculator(self):\n",
    "        # The actual calcualtor from the home page:\n",
    "        root2 = Toplevel(self.master)\n",
    "        myGUIO = bmicalculator(root2)\n",
    "    \n",
    "    def gotorecords(self):\n",
    "        #This is where the previous records of BMI will be kept, hasn't been put in yet#\n",
    "        root2=Toplevel(self.master)\n",
    "        mygui=records(root2)\n",
    "\n",
    "'''\n",
    "    def gotosettings(self):\n",
    "        # settings page:\n",
    "        root2 = Toplevel(self.master)\n",
    "        mygui=settings(root2)\n",
    "\n",
    "        '''\n",
    "        "
   ]
  },
  {
   "cell_type": "markdown",
   "metadata": {},
   "source": [
    "### 5-  Create the Main > Settings Page:"
   ]
  },
  {
   "cell_type": "code",
   "execution_count": 4,
   "metadata": {},
   "outputs": [],
   "source": [
    "# create a class for the settings page of the app:\n",
    "\n",
    "'''class settings():\n",
    "    def __init__(self, master):\n",
    "        \n",
    "        # SQL to create a table\n",
    "        c.execute('CREATE TABLE IF NOT EXISTS SETTINGSStorage(name TEXT, age REAL, gender, TEXT)')\n",
    "        \n",
    "        self.name = StringVar()\n",
    "        self.age = DoubleVar()\n",
    "        self.gender = StringVar()\n",
    "        \n",
    "        self.master = master\n",
    "        self.master.geometry('250x200+100+200')\n",
    "        self.master.title('Settings')\n",
    "\n",
    "        \n",
    "        self.label = Label(self.master,text = 'Welcome to your Settings',).grid(row=0,column=0)\n",
    "        self.label2 = Label(self.master,text = 'What is Your Name?',).grid(row=1,column=0)\n",
    "        self.label3 = Label(self.master,text= 'What is Your Gender?',).grid(row=3,column=0)\n",
    "        self.label4 = Label(self.master,text = 'What is Your Age?',).grid(row=2,column=0)\n",
    "        self.button6 = Button(self.master,text = \"Store Data\",fg='blue',command=self.dynamic_data_entry).grid(row=4,column=0)\n",
    "        self.button7 = Button(self.master,text = \"Return\",fg='blue',command=self.exit).grid(row=4, column = 1)\n",
    "        \n",
    "        self.yourname = Entry(self.master,textvariable = self.name).grid(row=1,column=1)\n",
    "        self.yourage = Entry(self.master,textvariable = self.age).grid(row=2,column=1)\n",
    "        self.yourgender = OptionMenu(self.master,self.gender,\"Male\",\"Female\",\"Other\",).grid(row=3,column=1)\n",
    "\n",
    "    def dynamic_data_entry(self):\n",
    "        \n",
    "        # This will add new BMI data to the database\n",
    "        # Bmi has to be changed to the value of bmi\n",
    "        # weightclass has to be change to the weightclass\n",
    "        \n",
    "        # Define the inputs:\n",
    "        thename = str(self.name.get())\n",
    "        theage = int(self.age.get())\n",
    "        thegender = str(self.gender.get())\n",
    "        \n",
    "        # Execute SQL query to add the data into the database\n",
    "        c.execute(\"INSERT INTO SETTINGSStorage (name, age, gender) VALUES (?, ?, ?)\",(thename, theage, thegender))\n",
    "        conn.commit() \n",
    "        self.writetodatabase()\n",
    "        \n",
    "    def writetodatabase(self):\n",
    "        for i in range(1):\n",
    "            time.sleep(1)\n",
    "            \n",
    "    def exit(self):\n",
    "        #Exit protocol for the exit button. This part is completely done.#\n",
    "        self.master.destroy()''';"
   ]
  },
  {
   "cell_type": "markdown",
   "metadata": {},
   "source": [
    "### 6-  Create the Main > BMI Calculator Page"
   ]
  },
  {
   "cell_type": "code",
   "execution_count": 5,
   "metadata": {},
   "outputs": [],
   "source": [
    "class bmicalculator():\n",
    "    #class created for the bmi calculator GUI and processing the numbers\n",
    "    def __init__(self,master):\n",
    "\n",
    "        c.execute('CREATE TABLE IF NOT EXISTS BMIStorage(timestamp TEXT,bodymassindex REAL,weightclass TEXT)')\n",
    "\n",
    "        self.heightcm=DoubleVar()\n",
    "        self.weightkg=DoubleVar()\n",
    "\n",
    "        self.master=master\n",
    "        self.master.geometry('250x200+100+200')\n",
    "        self.master.title('BMI Calculator')\n",
    "\n",
    "        self.label2=Label(self.master,text='Welcome to the BMI Calculator',fg='red').grid(row=0,column=0)\n",
    "        self.label2=Label(self.master,text='Please enter your height in centimetres',fg='black').grid(row=3,column=0)\n",
    "        self.label2=Label(self.master,text='Please enter your weight in kilograms',fg='black').grid(row=4,column=0)\n",
    "\n",
    "        self.myheight=Entry(self.master,textvariable=self.heightcm).grid(row=3,column=1)\n",
    "        self.myweight=Entry(self.master,textvariable=self.weightkg).grid(row=4,column=1)\n",
    "        self.button4=Button(self.master,text=\"Calculate BMI\",fg='blue',command=self.bmicalculation).grid(row=7,column=0)\n",
    "        self.button5=Button(self.master,text=\"Exit\",fg='blue',command=self.exit).grid(row=9,column=0)\n",
    "        \n",
    "    \n",
    "    def bmicalculation(self):\n",
    "        bmiheight=self.heightcm.get()\n",
    "        bmiweight=self.weightkg.get()\n",
    "        bmi= float((bmiweight)/((bmiheight / 100)**2))\n",
    "        bmi = round(bmi, 4)\n",
    "        self.bmi = bmi\n",
    "        self.label1=Label(self.master,text='Your BMI is %.2f' % bmi).grid(row=5,column=0)\n",
    "\n",
    "        if bmi <= 18.5:\n",
    "            self.label2=Label(self.master,text='You are slightly underweight.',fg='blue').grid(row=6,column=0)\n",
    "            totalindex = 'underweight'\n",
    "            self.totalindex = totalindex\n",
    "        elif bmi >18.5 and bmi <25:\n",
    "            self.label3=Label(self.master,text='You are in the healthy weight group.',fg='green').grid(row=6,column=0)\n",
    "            totalindex = 'healthy'\n",
    "            self.totalindex = totalindex\n",
    "        elif bmi >= 25 and bmi < 30:\n",
    "            self.label4=Label(self.master,text='You are slightly overweight.',fg='orange').grid(row=6,column=0)\n",
    "            totalindex = 'overweight'\n",
    "            self.totalindex = totalindex\n",
    "        elif bmi >=30:\n",
    "            self.label5=Label(self.master,text='You are in the obese weight group.',fg='red').grid(row=6,column=0)\n",
    "            totalindex = 'obese'\n",
    "            self.totalindex = totalindex\n",
    "\n",
    "        if bmi >0 and bmi <999999999999999999999:\n",
    "            self.button6=Button(self.master,text=\"Store Data\",fg='red',command=self.dynamic_data_entry).grid(row=8,column=0)\n",
    "            \n",
    "    def dynamic_data_entry(self):\n",
    "        global dynamic_data_entry\n",
    "\n",
    "        timestamp = str(datetime.datetime.now().date())\n",
    "        bodymassindex = self.bmi\n",
    "        weightclass = self.totalindex\n",
    "        c.execute(\"INSERT INTO BMIStorage (timestamp, bodymassindex, weightclass) VALUES (?, ?, ?)\",(timestamp, bodymassindex, weightclass))\n",
    "        conn.commit()\n",
    "        self.writetodatabase()\n",
    "\n",
    "    def writetodatabase(self):\n",
    "        for i in range(1):\n",
    "            time.sleep(1)\n",
    "\n",
    "\n",
    "    def exit(self):\n",
    "\n",
    "        self.master.destroy()\n"
   ]
  },
  {
   "cell_type": "markdown",
   "metadata": {},
   "source": [
    "### 7-  Create the Main > Records Page:"
   ]
  },
  {
   "cell_type": "code",
   "execution_count": 6,
   "metadata": {},
   "outputs": [],
   "source": [
    "class records():\n",
    "\n",
    "    def __init__(self,master):\n",
    "        self.master=master\n",
    "        self.master.geometry('500x500+100+200')\n",
    "        self.master.title('Records')\n",
    "        self.connection = sqlite3.connect('bmidatabase.db')\n",
    "        self.cur = self.connection.cursor()\n",
    "        self.dateLabel = Label(self.master, text=\"Date\", width=10)\n",
    "        self.dateLabel.grid(row=0, column=0)\n",
    "        self.BMILabel = Label(self.master, text=\"BMI\", width=10)\n",
    "        self.BMILabel.grid(row=0, column=1)\n",
    "        self.stateLabel = Label(self.master, text=\"Status\", width=10)\n",
    "        self.stateLabel.grid(row=0, column=2)\n",
    "        self.showallrecords()\n",
    "        self.button4=Button(self.master,text=\"Return\",fg='red',command=self.exit).grid(row=7,column=0)\n",
    "\n",
    "    def showallrecords(self):\n",
    "        data = self.readfromdatabase()\n",
    "        for index, dat in enumerate(data):\n",
    "            Label(self.master, text=dat[0]).grid(row=index+1, column=0)\n",
    "            Label(self.master, text=dat[1]).grid(row=index+1, column=1)\n",
    "            Label(self.master, text=dat[2]).grid(row=index+1, column=2)\n",
    "\n",
    "    def readfromdatabase(self):\n",
    "        self.cur.execute(\"SELECT * FROM BMIStorage\")\n",
    "        return self.cur.fetchall()\n",
    "\n",
    "    def exit(self):\n",
    "        self.master.destroy()\n"
   ]
  },
  {
   "cell_type": "markdown",
   "metadata": {},
   "source": [
    "### 8-  Initiate the Application:"
   ]
  },
  {
   "cell_type": "code",
   "execution_count": 7,
   "metadata": {},
   "outputs": [],
   "source": [
    "def main():\n",
    "     root = Tk()\n",
    "     myGUIWelcome = Welcome(root)\n",
    "     root.mainloop()\n",
    "\n",
    "if __name__ == '__main__':\n",
    "     main()"
   ]
  },
  {
   "cell_type": "markdown",
   "metadata": {},
   "source": [
    "### 9-  Export to Create a Standalone Executable:"
   ]
  },
  {
   "cell_type": "markdown",
   "metadata": {},
   "source": [
    "8.1 Navigate to your terminal command and install pyinstaller:\n",
    "   \n",
    "        >> pip install pyinstaller\n",
    "\n",
    "8.2 Save your file with a .py extension by going to File > Download As > Python File\n",
    "\n",
    "8.3 Create the executable in your terminal command line:\n",
    "        \n",
    "        >>> pyinstaller.exe --onefile --icon=bmi_icon.ico .\\bmi_calculator_gui.py\n",
    "        \n",
    "...where:\n",
    "\n",
    "        >>> pyinstaller.exe\n",
    "... is the package we are using to create the executable\n",
    "\n",
    "        >>> --onefile\n",
    "... will produce one output file instead of multiple\n",
    "\n",
    "        >>> --icon=bmi_icon.ico\n",
    "... will create a icon for your application assuming you have an icon file to use\n",
    "\n",
    "        >>> .\\bmi_calculator_gui.py\n",
    "... is the .py file you created in the previous step."
   ]
  },
  {
   "cell_type": "markdown",
   "metadata": {},
   "source": [
    "### 10-  Summary:"
   ]
  },
  {
   "cell_type": "markdown",
   "metadata": {},
   "source": [
    "In summary, we were able to create several classes each pertaining to a \"view\" or \"window\" in our application. Each class contained a series of defined functions that outlined a command of some sort for the program to execute. We then initiated the application to produce a GUI-based BMI Calculator. We then used pyinstaller to create a standalone executable file."
   ]
  }
 ],
 "metadata": {
  "kernelspec": {
   "display_name": "Python 3",
   "language": "python",
   "name": "python3"
  },
  "language_info": {
   "codemirror_mode": {
    "name": "ipython",
    "version": 3
   },
   "file_extension": ".py",
   "mimetype": "text/x-python",
   "name": "python",
   "nbconvert_exporter": "python",
   "pygments_lexer": "ipython3",
   "version": "3.7.0"
  }
 },
 "nbformat": 4,
 "nbformat_minor": 2
}
